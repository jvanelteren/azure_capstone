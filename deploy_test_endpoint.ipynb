{
 "metadata": {
  "language_info": {
   "codemirror_mode": {
    "name": "ipython",
    "version": 3
   },
   "file_extension": ".py",
   "mimetype": "text/x-python",
   "name": "python",
   "nbconvert_exporter": "python",
   "pygments_lexer": "ipython3",
   "version": "3.7.3-final"
  },
  "orig_nbformat": 2,
  "kernelspec": {
   "name": "python3",
   "display_name": "Python 3",
   "language": "python"
  }
 },
 "nbformat": 4,
 "nbformat_minor": 2,
 "cells": [
  {
   "cell_type": "code",
   "execution_count": 4,
   "metadata": {},
   "outputs": [
    {
     "output_type": "stream",
     "name": "stdout",
     "text": [
      "Workspace name: capstone\nAzure region: westeurope\nSubscription id: 72f46e0e-1451-4b79-92cd-fc8f7797bda7\nResource group: test-Jesse\n"
     ]
    }
   ],
   "source": [
    "from azureml.core.model import InferenceConfig\n",
    "from azureml.core.environment import Environment\n",
    "from azureml.core.webservice import AciWebservice \n",
    "from azureml.core.model import Model\n",
    "from azureml.core import Workspace, Experiment\n",
    "\n",
    "\n",
    "# ws = Workspace.get(name=\"capstone\")\n",
    "ws = Workspace.from_config()\n",
    "# exp = Experiment(workspace=ws, name=\"udacity-project-hyperparam-bayes\")\n",
    "\n",
    "print('Workspace name: ' + ws.name, \n",
    "      'Azure region: ' + ws.location, \n",
    "      'Subscription id: ' + ws.subscription_id, \n",
    "      'Resource group: ' + ws.resource_group, sep = '\\n')"
   ]
  },
  {
   "cell_type": "code",
   "execution_count": 5,
   "metadata": {},
   "outputs": [],
   "source": [
    "from azureml.core.environment import Environment\n",
    "from azureml.core.model import InferenceConfig\n",
    "\n",
    "env = Environment.from_conda_specification(name = 'project1', file_path = '.azureml/project1.yml')\n",
    "# env = Environment.get(workspace, \"AzureML-Minimal\").clone(env_name)\n",
    "\n",
    "for pip_package in [\"scikit-learn\"]:\n",
    "    env.python.conda_dependencies.add_pip_package(pip_package)\n",
    "\n",
    "inference_config = InferenceConfig(entry_script='score.py',\n",
    "                                    environment=env)\n",
    "\n",
    "from azureml.core.webservice import AciWebservice, Webservice\n",
    "from azureml.core.model import Model\n",
    "\n",
    "deployment_config = AciWebservice.deploy_configuration(cpu_cores = 1, memory_gb = 1)"
   ]
  },
  {
   "cell_type": "code",
   "execution_count": 6,
   "metadata": {},
   "outputs": [
    {
     "output_type": "error",
     "ename": "NameError",
     "evalue": "name 'aci_config' is not defined",
     "traceback": [
      "\u001b[1;31m---------------------------------------------------------------------------\u001b[0m",
      "\u001b[1;31mNameError\u001b[0m                                 Traceback (most recent call last)",
      "\u001b[1;32m<ipython-input-6-957db0b1b392>\u001b[0m in \u001b[0;36m<module>\u001b[1;34m\u001b[0m\n\u001b[0;32m      4\u001b[0m                         \u001b[0mmodels\u001b[0m\u001b[1;33m=\u001b[0m \u001b[1;33m[\u001b[0m\u001b[0mmodel\u001b[0m\u001b[1;33m]\u001b[0m\u001b[1;33m,\u001b[0m\u001b[1;33m\u001b[0m\u001b[1;33m\u001b[0m\u001b[0m\n\u001b[0;32m      5\u001b[0m                         \u001b[0minference_config\u001b[0m\u001b[1;33m=\u001b[0m\u001b[0minference_config\u001b[0m\u001b[1;33m,\u001b[0m\u001b[1;33m\u001b[0m\u001b[1;33m\u001b[0m\u001b[0m\n\u001b[1;32m----> 6\u001b[1;33m                         \u001b[0mdeployment_config\u001b[0m\u001b[1;33m=\u001b[0m\u001b[0maci_config\u001b[0m\u001b[1;33m\u001b[0m\u001b[1;33m\u001b[0m\u001b[0m\n\u001b[0m\u001b[0;32m      7\u001b[0m )\n\u001b[0;32m      8\u001b[0m \u001b[1;33m\u001b[0m\u001b[0m\n",
      "\u001b[1;31mNameError\u001b[0m: name 'aci_config' is not defined"
     ]
    }
   ],
   "source": [
    "model = Model(ws, name='automl')\n",
    "service = Model.deploy(workspace=ws,\n",
    "                        name = 'automl',\n",
    "                        models= [model],\n",
    "                        inference_config=inference_config,\n",
    "                        deployment_config=deployment_config\n",
    ")\n",
    "\n",
    "service.wait_for_deployment(True)\n",
    "print(service.state)\n",
    "print(\"scoring URI: \" + service.scoring_uri)"
   ]
  },
  {
   "source": [
    "## Get testset"
   ],
   "cell_type": "markdown",
   "metadata": {}
  },
  {
   "cell_type": "code",
   "execution_count": null,
   "metadata": {},
   "outputs": [],
   "source": [
    "train_url = \"https://raw.githubusercontent.com/jvanelteren/housing/master/datasets/housing_after_preprocessing.csv\"\n",
    "train_x = pd.read_csv(train_url)\n",
    "train_x.rename(columns={'Unnamed: 0':'Column1'}, inplace=True)\n",
    "train_x = train_x.drop(columns=['y'])\n",
    "\n",
    "from sklearn.impute import SimpleImputer\n",
    "class DFSimpleImputer(SimpleImputer):\n",
    "    # just like SimpleImputer, but retuns a df\n",
    "    # this approach creates problems with the add_indicator=True, since more columns are returned\n",
    "    # so don't set add_indicator to True\n",
    "    def transform(self, X,y=None):\n",
    "        return pd.DataFrame(super().transform(X),columns=X.columns) \n",
    "    def __repr__(self):\n",
    "        return f'SimpleImputer'\n",
    "imp = DFSimpleImputer(strategy='most_frequent')\n",
    "imp = imp.fit(train_x)"
   ]
  },
  {
   "cell_type": "code",
   "execution_count": null,
   "metadata": {},
   "outputs": [],
   "source": [
    "test_url = \"https://raw.githubusercontent.com/jvanelteren/housing/master/datasets/final_test.csv\"\n",
    "test_x = pd.read_csv(test_url)\n",
    "test_x.rename(columns={'Unnamed: 0':'Column1'}, inplace=True)\n",
    "test_x = imp.transform(test_x)\n",
    "test_x = test_x.astype(train_x.dtypes.to_dict())"
   ]
  },
  {
   "cell_type": "code",
   "execution_count": null,
   "metadata": {},
   "outputs": [],
   "source": [
    "def submit(model, filename='submission.csv'):\n",
    "    pred = model.predict(test_x)\n",
    "    out = pd.DataFrame()\n",
    "    out['Id']= list(range(1461, 2920))\n",
    "    out['SalePrice'] = np.exp(pred)\n",
    "    out.to_csv('./submissions/'+ filename, index=False)\n"
   ]
  },
  {
   "cell_type": "code",
   "execution_count": null,
   "metadata": {},
   "outputs": [],
   "source": []
  },
  {
   "cell_type": "code",
   "execution_count": null,
   "metadata": {},
   "outputs": [],
   "source": [
    "import pandas as pd\n",
    "import json\n",
    "import requests \n",
    "\n",
    "headers = {'Content-Type':'application/json'}\n",
    "\n",
    "data = json.dumps(test_x)\n",
    "# data = json.loads(data)\n",
    "response = requests.post(service.scoring_uri, data=data, headers=headers)\n",
    "print(response.status_code)\n",
    "print(response.elapsed)\n",
    "print(response.json())\n"
   ]
  },
  {
   "cell_type": "code",
   "execution_count": null,
   "metadata": {},
   "outputs": [],
   "source": []
  },
  {
   "cell_type": "code",
   "execution_count": null,
   "metadata": {},
   "outputs": [],
   "source": []
  },
  {
   "cell_type": "code",
   "execution_count": null,
   "metadata": {},
   "outputs": [],
   "source": []
  },
  {
   "cell_type": "code",
   "execution_count": null,
   "metadata": {},
   "outputs": [],
   "source": []
  },
  {
   "cell_type": "code",
   "execution_count": null,
   "metadata": {},
   "outputs": [],
   "source": []
  },
  {
   "cell_type": "code",
   "execution_count": null,
   "metadata": {},
   "outputs": [],
   "source": []
  },
  {
   "cell_type": "code",
   "execution_count": null,
   "metadata": {},
   "outputs": [],
   "source": []
  }
 ]
}