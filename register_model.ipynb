{
 "cells": [
  {
   "cell_type": "code",
   "execution_count": 1,
   "metadata": {
    "gather": {
     "logged": 1598275788035
    }
   },
   "outputs": [
    {
     "output_type": "stream",
     "name": "stdout",
     "text": [
      "Workspace name: capstone\nAzure region: westeurope\nSubscription id: 72f46e0e-1451-4b79-92cd-fc8f7797bda7\nResource group: test-Jesse\n"
     ]
    }
   ],
   "source": [
    "from azureml.core import Workspace, Experiment, Model\n",
    "import joblib\n",
    "\n",
    "ws = Workspace.from_config()\n",
    "\n",
    "print('Workspace name: ' + ws.name, \n",
    "      'Azure region: ' + ws.location, \n",
    "      'Subscription id: ' + ws.subscription_id, \n",
    "      'Resource group: ' + ws.resource_group, sep = '\\n')"
   ]
  },
  {
   "cell_type": "code",
   "execution_count": 2,
   "metadata": {},
   "outputs": [
    {
     "output_type": "stream",
     "name": "stdout",
     "text": [
      "hyperdrive xgboost with bandit policy\t0.1255\n",
      "hyperdrive xgboost with bayesian sampling\t0.127\n",
      "AutoML on same dataset as hyperdrive\t0.1167\n",
      "AutoML on original dataset (except log transform target)\t0.1248\n",
      "AutoML on original dataset (no log transform target)\t26738.5013\n"
     ]
    }
   ],
   "source": [
    "# I've ran five experiments. below code retrieves the main experiment run and the best run. It also prints the score of the best run\n",
    "\n",
    "# Dictionary to map the experiments to better descriptive names\n",
    "explanation = { 'hyperdrive-xgboost' : 'hyperdrive xgboost with bandit policy',\n",
    "                'udacity-project-hyperparam-bayes' : 'hyperdrive xgboost with bayesian sampling',\n",
    "                'automl': 'AutoML on same dataset as hyperdrive',\n",
    "                'AutoML-onlylogtransform': 'AutoML on original dataset (except log transform target)',\n",
    "                'automl-kaggle-orgininal': 'AutoML on original dataset (no log transform target)'\n",
    "}\n",
    "\n",
    "def get_score(run):\n",
    "    print(float(run.get_metrics()['rmse']) if run.status == 'Completed' else None)\n",
    "    return float(run.get_metrics()['rmse']) if run.status == 'Completed' else None\n",
    "\n",
    "def get_main_run(exp_name):\n",
    "    exp = Experiment(workspace=ws, name=exp_name)\n",
    "    return list(exp.get_runs())[0]\n",
    "\n",
    "def get_best_run(name, run):\n",
    "    print(explanation[name], end = '\\t')\n",
    "    if run.type == 'hyperdrive':\n",
    "        best_run = run.get_best_run_by_primary_metric()\n",
    "        print(round(best_run.get_metrics()['rmse'],4))\n",
    "    elif run.type == 'automl':\n",
    "        best_run = run.get_best_child()\n",
    "        print(round(best_run.get_metrics()['root_mean_squared_error'],4))\n",
    "    else:\n",
    "        print('wrong type')\n",
    "    return best_run\n",
    "\n",
    "main_runs = {exp_name : get_main_run(exp_name) for exp_name in list(explanation.keys())}\n",
    "best_runs = {name: get_best_run(name, run) for name, run in main_runs.items()}\n",
    "    "
   ]
  },
  {
   "source": [
    "## Register best AutoML model"
   ],
   "cell_type": "markdown",
   "metadata": {}
  },
  {
   "cell_type": "code",
   "execution_count": 9,
   "metadata": {},
   "outputs": [],
   "source": [
    "model = main_runs['automl'].register_model(model_name = 'automl')\n",
    "# below code to download model\n",
    "# model.download(target_dir='models/automl', exist_ok = True)\n",
    "# model = joblib.load('models/automl/model.pkl')\n"
   ]
  },
  {
   "source": [
    "## Register best Hyperdrive model"
   ],
   "cell_type": "markdown",
   "metadata": {}
  },
  {
   "cell_type": "code",
   "execution_count": 13,
   "metadata": {},
   "outputs": [
    {
     "output_type": "execute_result",
     "data": {
      "text/plain": [
       "Run(Experiment: hyperdrive-xgboost,\n",
       "Id: HD_091ce256-d06c-47bb-b5fb-99f68e45a6a3_125,\n",
       "Type: azureml.scriptrun,\n",
       "Status: Completed)"
      ],
      "text/html": "<table style=\"width:100%\"><tr><th>Experiment</th><th>Id</th><th>Type</th><th>Status</th><th>Details Page</th><th>Docs Page</th></tr><tr><td>hyperdrive-xgboost</td><td>HD_091ce256-d06c-47bb-b5fb-99f68e45a6a3_125</td><td>azureml.scriptrun</td><td>Completed</td><td><a href=\"https://ml.azure.com/experiments/hyperdrive-xgboost/runs/HD_091ce256-d06c-47bb-b5fb-99f68e45a6a3_125?wsid=/subscriptions/72f46e0e-1451-4b79-92cd-fc8f7797bda7/resourcegroups/test-Jesse/workspaces/capstone\" target=\"_blank\" rel=\"noopener\">Link to Azure Machine Learning studio</a></td><td><a href=\"https://docs.microsoft.com/en-us/python/api/azureml-core/azureml.core.run.Run?view=azure-ml-py\" target=\"_blank\" rel=\"noopener\">Link to Documentation</a></td></tr></table>"
     },
     "metadata": {},
     "execution_count": 13
    }
   ],
   "source": [
    "best_runs['hyperdrive-xgboost']"
   ]
  },
  {
   "cell_type": "code",
   "execution_count": 14,
   "metadata": {},
   "outputs": [
    {
     "output_type": "execute_result",
     "data": {
      "text/plain": [
       "Model(workspace=Workspace.create(name='capstone', subscription_id='72f46e0e-1451-4b79-92cd-fc8f7797bda7', resource_group='test-Jesse'), name=hyperdrive, id=hyperdrive:1, version=1, tags={}, properties={})"
      ]
     },
     "metadata": {},
     "execution_count": 14
    }
   ],
   "source": [
    "best_runs['hyperdrive-xgboost'].register_model(model_name = 'hyperdrive', model_path='./outputs')"
   ]
  }
 ],
 "metadata": {
  "kernel_info": {
   "name": "python3-azureml"
  },
  "kernelspec": {
   "display_name": "Python 3",
   "language": "python",
   "name": "python3"
  },
  "language_info": {
   "codemirror_mode": {
    "name": "ipython",
    "version": 3
   },
   "file_extension": ".py",
   "mimetype": "text/x-python",
   "name": "python",
   "nbconvert_exporter": "python",
   "pygments_lexer": "ipython3",
   "version": "3.7.3-final"
  },
  "nteract": {
   "version": "nteract-front-end@1.0.0"
  }
 },
 "nbformat": 4,
 "nbformat_minor": 2
}